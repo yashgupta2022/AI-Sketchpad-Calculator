{
 "cells": [
  {
   "cell_type": "code",
   "execution_count": 13,
   "metadata": {},
   "outputs": [
    {
     "name": "stdout",
     "output_type": "stream",
     "text": [
      "Processing\n",
      "a = 7\n",
      "b = 5\n",
      "a + b = ?\n",
      "7 + 5 = ?\n",
      "a + b = 12\n",
      "\n"
     ]
    }
   ],
   "source": [
    "import cv2\n",
    "import numpy as np\n",
    "import google.generativeai as genai\n",
    "import os\n",
    "\n",
    "genai.configure(api_key=os.environ.get(\"GENAI_API_KEY\"))\n",
    "\n",
    "prevPencil, prevEraser, prevx, prevy = False, False, None, None\n",
    "process, clear = False, False\n",
    "\n",
    "def draw(event, x, y, flags, param):\n",
    "    global prevPencil, prevEraser, prevx, prevy, process, clear\n",
    "    if event == cv2.EVENT_LBUTTONDOWN:  # Left mouse button clicked\n",
    "        if 550 < x < 630 and 10 < y < 50:\n",
    "            process = True\n",
    "            print(\"Processing\")\n",
    "        elif 480 < x < 540 and 10 < y < 50:\n",
    "            clear = True\n",
    "            print(\"Clearing\")\n",
    "        else:\n",
    "            prevx, prevy = x, y\n",
    "            prevPencil = True\n",
    "    elif event == cv2.EVENT_MOUSEMOVE:  # Mouse moved\n",
    "        if prevPencil:\n",
    "            cv2.line(canvas, (prevx, prevy), (x, y), (0, 255, 0), 2)\n",
    "            prevx, prevy = x, y\n",
    "        elif prevEraser:\n",
    "            cv2.circle(canvas, (prevx, prevy), 15, (0, 0, 0), cv2.FILLED)\n",
    "            cv2.circle(canvas, (x, y), 15, (0, 0, 255), cv2.FILLED)\n",
    "            cv2.line(canvas, (prevx, prevy), (x, y), (0, 0, 0), 10)\n",
    "            prevx, prevy = x, y\n",
    "    elif event == cv2.EVENT_LBUTTONUP:  # Left mouse button released\n",
    "        prevPencil = False\n",
    "    elif event == cv2.EVENT_RBUTTONDOWN:  # Right mouse button clicked\n",
    "        prevx, prevy = x, y\n",
    "        cv2.circle(canvas, (x, y), 15, (0, 0, 255), cv2.FILLED)\n",
    "        prevEraser = True\n",
    "    elif event == cv2.EVENT_RBUTTONUP:  # Right mouse button released\n",
    "        cv2.circle(canvas, (prevx, prevy), 15, (0, 0, 0), cv2.FILLED)\n",
    "        prevEraser = False\n",
    "\n",
    "try:\n",
    "    previndex = None\n",
    "    prevPencil = None\n",
    "    canvas = np.zeros((480, 640, 3), dtype=np.uint8) \n",
    "    prevEraser = None\n",
    "\n",
    "    cv2.namedWindow(\"Canvas\")\n",
    "    cv2.setMouseCallback(\"Canvas\", draw)  # Set the mouse callback function\n",
    "\n",
    "    while True:\n",
    "        if process:\n",
    "            cv2.imwrite('input.png', canvas)\n",
    "            model = genai.GenerativeModel(\"gemini-1.5-flash\")\n",
    "            myfile = genai.upload_file(\"input.png\")\n",
    "            result = model.generate_content(\n",
    "                [myfile, \"\\n\\n\", \"Solve the equation in this image and write the equation and answer in correct mathematical notation. Represent exponentiation using the ^ symbol and fractions using the / symbol. For integration, logarithms, differentiation use brackets to enclose equations and other mathematical functions, use the appropriate notation. For example, write the square root of x as sqrt(x). Give steps used to solve also. Include not more than 5 words in each line of response. Replace all special symbols which cannot be typed using keyboard with their short name\", \"\\n\\n\"]\n",
    "            )\n",
    "\n",
    "            # Clear the canvas and display the result\n",
    "            cv2.rectangle(canvas, (0, 0), (640, 480), (0, 0, 0), cv2.FILLED)\n",
    "            print(result.text)\n",
    "            i = 100\n",
    "            for line in result.text.split(\"\\n\"):\n",
    "                cv2.putText(canvas, line, (50, i), cv2.FONT_HERSHEY_SIMPLEX, 0.8, (255, 255, 255), 2)\n",
    "                i += 50\n",
    "            cv2.imwrite('output.png', canvas)\n",
    "            \n",
    "            process = False\n",
    "\n",
    "        if clear:\n",
    "            cv2.rectangle(canvas, (0, 0), (640, 480),  (0, 0, 0), cv2.FILLED)\n",
    "            clear = False\n",
    "\n",
    "        # Draw the toolbar\n",
    "        cv2.rectangle(canvas, (550, 10), (630, 50), (255, 255, 255), cv2.FILLED)\n",
    "        cv2.putText(canvas, \"PROCESS\", (555, 35), cv2.FONT_HERSHEY_SIMPLEX, 0.5, (0, 0, 0), 2)\n",
    "\n",
    "        cv2.rectangle(canvas, (480, 10), (540, 50), (255, 255, 255), cv2.FILLED)\n",
    "        cv2.putText(canvas, \"CLEAR\", (485, 35), cv2.FONT_HERSHEY_SIMPLEX, 0.5, (0, 0, 0), 2)\n",
    "\n",
    "        cv2.imshow(\"Canvas\", canvas)\n",
    "\n",
    "        # Break the loop if the spacebar is pressed\n",
    "        if cv2.waitKey(1) & 0xFF == ord(' '):\n",
    "            break\n",
    "\n",
    "except Exception as e:\n",
    "    print(e)\n",
    "finally:\n",
    "    cv2.destroyAllWindows()"
   ]
  },
  {
   "cell_type": "code",
   "execution_count": 14,
   "metadata": {},
   "outputs": [
    {
     "data": {
      "image/png": "[encoded data removed]",
      "text/plain": [
       "<IPython.core.display.Image object>"
      ]
     },
     "execution_count": 14,
     "metadata": {},
     "output_type": "execute_result"
    }
   ],
   "source": [
    "from IPython.display import Image\n",
    "Image(filename='input.png') "
   ]
  },
  {
   "cell_type": "code",
   "execution_count": 15,
   "metadata": {},
   "outputs": [
    {
     "data": {
      "image/png": "[encoded data removed]",
      "text/plain": [
       "<IPython.core.display.Image object>"
      ]
     },
     "execution_count": 15,
     "metadata": {},
     "output_type": "execute_result"
    }
   ],
   "source": [
    "Image(filename='output.png')"
   ]
  }
 ],
 "metadata": {
  "kernelspec": {
   "display_name": "base",
   "language": "python",
   "name": "python3"
  },
  "language_info": {
   "codemirror_mode": {
    "name": "ipython",
    "version": 3
   },
   "file_extension": ".py",
   "mimetype": "text/x-python",
   "name": "python",
   "nbconvert_exporter": "python",
   "pygments_lexer": "ipython3",
   "version": "3.11.5"
  }
 },
 "nbformat": 4,
 "nbformat_minor": 2
}
